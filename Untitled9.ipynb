{
 "cells": [
  {
   "cell_type": "code",
   "execution_count": 1,
   "id": "cc6e45c4-bc85-4be8-a2be-b13a8bd91dcc",
   "metadata": {},
   "outputs": [],
   "source": [
    "import pandas as pd\n",
    "from sklearn.linear_model import LinearRegression\n",
    "import pickle\n",
    "\n",
    "df = pd.read_csv(\"BM_clean.csv\")\n"
   ]
  },
  {
   "cell_type": "code",
   "execution_count": 2,
   "id": "a97767f7-3034-4d28-9001-229649b76970",
   "metadata": {},
   "outputs": [
    {
     "data": {
      "text/html": [
       "<div>\n",
       "<style scoped>\n",
       "    .dataframe tbody tr th:only-of-type {\n",
       "        vertical-align: middle;\n",
       "    }\n",
       "\n",
       "    .dataframe tbody tr th {\n",
       "        vertical-align: top;\n",
       "    }\n",
       "\n",
       "    .dataframe thead th {\n",
       "        text-align: right;\n",
       "    }\n",
       "</style>\n",
       "<table border=\"1\" class=\"dataframe\">\n",
       "  <thead>\n",
       "    <tr style=\"text-align: right;\">\n",
       "      <th></th>\n",
       "      <th>Unnamed: 0</th>\n",
       "      <th>default</th>\n",
       "      <th>housing</th>\n",
       "      <th>loan</th>\n",
       "      <th>contact</th>\n",
       "      <th>pdays</th>\n",
       "      <th>previous</th>\n",
       "      <th>poutcome</th>\n",
       "      <th>emp.var.rate</th>\n",
       "      <th>cons.price.idx</th>\n",
       "      <th>cons.conf.idx</th>\n",
       "      <th>euribor3m</th>\n",
       "      <th>age_group</th>\n",
       "      <th>Marital_Status</th>\n",
       "      <th>Job_Type</th>\n",
       "      <th>Edu_Cat</th>\n",
       "      <th>y</th>\n",
       "    </tr>\n",
       "  </thead>\n",
       "  <tbody>\n",
       "    <tr>\n",
       "      <th>0</th>\n",
       "      <td>0</td>\n",
       "      <td>no</td>\n",
       "      <td>no</td>\n",
       "      <td>no</td>\n",
       "      <td>telephone</td>\n",
       "      <td>Never</td>\n",
       "      <td>0</td>\n",
       "      <td>nonexistent</td>\n",
       "      <td>1.1</td>\n",
       "      <td>93.994</td>\n",
       "      <td>-36.4</td>\n",
       "      <td>4.857</td>\n",
       "      <td>Elderly</td>\n",
       "      <td>married</td>\n",
       "      <td>housemaid</td>\n",
       "      <td>school</td>\n",
       "      <td>0</td>\n",
       "    </tr>\n",
       "    <tr>\n",
       "      <th>1</th>\n",
       "      <td>1</td>\n",
       "      <td>no</td>\n",
       "      <td>no</td>\n",
       "      <td>no</td>\n",
       "      <td>telephone</td>\n",
       "      <td>Never</td>\n",
       "      <td>0</td>\n",
       "      <td>nonexistent</td>\n",
       "      <td>1.1</td>\n",
       "      <td>93.994</td>\n",
       "      <td>-36.4</td>\n",
       "      <td>4.857</td>\n",
       "      <td>Elderly</td>\n",
       "      <td>married</td>\n",
       "      <td>services</td>\n",
       "      <td>school</td>\n",
       "      <td>0</td>\n",
       "    </tr>\n",
       "    <tr>\n",
       "      <th>2</th>\n",
       "      <td>2</td>\n",
       "      <td>no</td>\n",
       "      <td>yes</td>\n",
       "      <td>no</td>\n",
       "      <td>telephone</td>\n",
       "      <td>Never</td>\n",
       "      <td>0</td>\n",
       "      <td>nonexistent</td>\n",
       "      <td>1.1</td>\n",
       "      <td>93.994</td>\n",
       "      <td>-36.4</td>\n",
       "      <td>4.857</td>\n",
       "      <td>Productive Adult</td>\n",
       "      <td>married</td>\n",
       "      <td>services</td>\n",
       "      <td>school</td>\n",
       "      <td>0</td>\n",
       "    </tr>\n",
       "    <tr>\n",
       "      <th>3</th>\n",
       "      <td>3</td>\n",
       "      <td>no</td>\n",
       "      <td>no</td>\n",
       "      <td>no</td>\n",
       "      <td>telephone</td>\n",
       "      <td>Never</td>\n",
       "      <td>0</td>\n",
       "      <td>nonexistent</td>\n",
       "      <td>1.1</td>\n",
       "      <td>93.994</td>\n",
       "      <td>-36.4</td>\n",
       "      <td>4.857</td>\n",
       "      <td>Productive Adult</td>\n",
       "      <td>married</td>\n",
       "      <td>admin.</td>\n",
       "      <td>school</td>\n",
       "      <td>0</td>\n",
       "    </tr>\n",
       "    <tr>\n",
       "      <th>4</th>\n",
       "      <td>4</td>\n",
       "      <td>no</td>\n",
       "      <td>no</td>\n",
       "      <td>yes</td>\n",
       "      <td>telephone</td>\n",
       "      <td>Never</td>\n",
       "      <td>0</td>\n",
       "      <td>nonexistent</td>\n",
       "      <td>1.1</td>\n",
       "      <td>93.994</td>\n",
       "      <td>-36.4</td>\n",
       "      <td>4.857</td>\n",
       "      <td>Elderly</td>\n",
       "      <td>married</td>\n",
       "      <td>services</td>\n",
       "      <td>school</td>\n",
       "      <td>0</td>\n",
       "    </tr>\n",
       "  </tbody>\n",
       "</table>\n",
       "</div>"
      ],
      "text/plain": [
       "   Unnamed: 0 default housing loan    contact  pdays  previous     poutcome  \\\n",
       "0           0      no      no   no  telephone  Never         0  nonexistent   \n",
       "1           1      no      no   no  telephone  Never         0  nonexistent   \n",
       "2           2      no     yes   no  telephone  Never         0  nonexistent   \n",
       "3           3      no      no   no  telephone  Never         0  nonexistent   \n",
       "4           4      no      no  yes  telephone  Never         0  nonexistent   \n",
       "\n",
       "   emp.var.rate  cons.price.idx  cons.conf.idx  euribor3m         age_group  \\\n",
       "0           1.1          93.994          -36.4      4.857           Elderly   \n",
       "1           1.1          93.994          -36.4      4.857           Elderly   \n",
       "2           1.1          93.994          -36.4      4.857  Productive Adult   \n",
       "3           1.1          93.994          -36.4      4.857  Productive Adult   \n",
       "4           1.1          93.994          -36.4      4.857           Elderly   \n",
       "\n",
       "  Marital_Status   Job_Type Edu_Cat  y  \n",
       "0        married  housemaid  school  0  \n",
       "1        married   services  school  0  \n",
       "2        married   services  school  0  \n",
       "3        married     admin.  school  0  \n",
       "4        married   services  school  0  "
      ]
     },
     "execution_count": 2,
     "metadata": {},
     "output_type": "execute_result"
    }
   ],
   "source": [
    "df.head()"
   ]
  },
  {
   "cell_type": "code",
   "execution_count": 3,
   "id": "290a8c8b-5fa1-49b8-9dd7-56a64c6c962e",
   "metadata": {},
   "outputs": [
    {
     "data": {
      "text/plain": [
       "0            0\n",
       "1            1\n",
       "2            2\n",
       "3            3\n",
       "4            4\n",
       "         ...  \n",
       "41171    41183\n",
       "41172    41184\n",
       "41173    41185\n",
       "41174    41186\n",
       "41175    41187\n",
       "Name: Unnamed: 0, Length: 41176, dtype: int64"
      ]
     },
     "execution_count": 3,
     "metadata": {},
     "output_type": "execute_result"
    }
   ],
   "source": [
    "df['Unnamed: 0']"
   ]
  },
  {
   "cell_type": "code",
   "execution_count": 4,
   "id": "50401cf3-2e93-47fe-8243-91abd88936a7",
   "metadata": {},
   "outputs": [],
   "source": [
    "df = df.drop(columns=['Unnamed: 0'])\n",
    "df = df.drop(columns=['emp.var.rate'])\n",
    "df = df.drop(columns=['cons.price.idx'])\n",
    "df = df.drop(columns=['cons.conf.idx'])\n",
    "df = df.drop(columns=['euribor3m'])\n",
    "df = df.drop(columns=['previous'])\n",
    "df = df.drop(columns=['poutcome'])"
   ]
  },
  {
   "cell_type": "code",
   "execution_count": 5,
   "id": "0b042862-ce32-40ab-822e-538f20aa3f8a",
   "metadata": {},
   "outputs": [
    {
     "data": {
      "text/html": [
       "<div>\n",
       "<style scoped>\n",
       "    .dataframe tbody tr th:only-of-type {\n",
       "        vertical-align: middle;\n",
       "    }\n",
       "\n",
       "    .dataframe tbody tr th {\n",
       "        vertical-align: top;\n",
       "    }\n",
       "\n",
       "    .dataframe thead th {\n",
       "        text-align: right;\n",
       "    }\n",
       "</style>\n",
       "<table border=\"1\" class=\"dataframe\">\n",
       "  <thead>\n",
       "    <tr style=\"text-align: right;\">\n",
       "      <th></th>\n",
       "      <th>default</th>\n",
       "      <th>housing</th>\n",
       "      <th>loan</th>\n",
       "      <th>contact</th>\n",
       "      <th>pdays</th>\n",
       "      <th>age_group</th>\n",
       "      <th>Marital_Status</th>\n",
       "      <th>Job_Type</th>\n",
       "      <th>Edu_Cat</th>\n",
       "      <th>y</th>\n",
       "    </tr>\n",
       "  </thead>\n",
       "  <tbody>\n",
       "    <tr>\n",
       "      <th>0</th>\n",
       "      <td>no</td>\n",
       "      <td>no</td>\n",
       "      <td>no</td>\n",
       "      <td>telephone</td>\n",
       "      <td>Never</td>\n",
       "      <td>Elderly</td>\n",
       "      <td>married</td>\n",
       "      <td>housemaid</td>\n",
       "      <td>school</td>\n",
       "      <td>0</td>\n",
       "    </tr>\n",
       "    <tr>\n",
       "      <th>1</th>\n",
       "      <td>no</td>\n",
       "      <td>no</td>\n",
       "      <td>no</td>\n",
       "      <td>telephone</td>\n",
       "      <td>Never</td>\n",
       "      <td>Elderly</td>\n",
       "      <td>married</td>\n",
       "      <td>services</td>\n",
       "      <td>school</td>\n",
       "      <td>0</td>\n",
       "    </tr>\n",
       "    <tr>\n",
       "      <th>2</th>\n",
       "      <td>no</td>\n",
       "      <td>yes</td>\n",
       "      <td>no</td>\n",
       "      <td>telephone</td>\n",
       "      <td>Never</td>\n",
       "      <td>Productive Adult</td>\n",
       "      <td>married</td>\n",
       "      <td>services</td>\n",
       "      <td>school</td>\n",
       "      <td>0</td>\n",
       "    </tr>\n",
       "    <tr>\n",
       "      <th>3</th>\n",
       "      <td>no</td>\n",
       "      <td>no</td>\n",
       "      <td>no</td>\n",
       "      <td>telephone</td>\n",
       "      <td>Never</td>\n",
       "      <td>Productive Adult</td>\n",
       "      <td>married</td>\n",
       "      <td>admin.</td>\n",
       "      <td>school</td>\n",
       "      <td>0</td>\n",
       "    </tr>\n",
       "    <tr>\n",
       "      <th>4</th>\n",
       "      <td>no</td>\n",
       "      <td>no</td>\n",
       "      <td>yes</td>\n",
       "      <td>telephone</td>\n",
       "      <td>Never</td>\n",
       "      <td>Elderly</td>\n",
       "      <td>married</td>\n",
       "      <td>services</td>\n",
       "      <td>school</td>\n",
       "      <td>0</td>\n",
       "    </tr>\n",
       "  </tbody>\n",
       "</table>\n",
       "</div>"
      ],
      "text/plain": [
       "  default housing loan    contact  pdays         age_group Marital_Status  \\\n",
       "0      no      no   no  telephone  Never           Elderly        married   \n",
       "1      no      no   no  telephone  Never           Elderly        married   \n",
       "2      no     yes   no  telephone  Never  Productive Adult        married   \n",
       "3      no      no   no  telephone  Never  Productive Adult        married   \n",
       "4      no      no  yes  telephone  Never           Elderly        married   \n",
       "\n",
       "    Job_Type Edu_Cat  y  \n",
       "0  housemaid  school  0  \n",
       "1   services  school  0  \n",
       "2   services  school  0  \n",
       "3     admin.  school  0  \n",
       "4   services  school  0  "
      ]
     },
     "execution_count": 5,
     "metadata": {},
     "output_type": "execute_result"
    }
   ],
   "source": [
    "df.head()"
   ]
  },
  {
   "cell_type": "code",
   "execution_count": 6,
   "id": "5f11cf27-5179-4d60-b5f0-04c912050692",
   "metadata": {},
   "outputs": [],
   "source": [
    "from sklearn.pipeline import Pipeline"
   ]
  },
  {
   "cell_type": "code",
   "execution_count": 7,
   "id": "854f7300-b964-4360-b0f9-4b8abca6f41e",
   "metadata": {},
   "outputs": [],
   "source": [
    "from sklearn.preprocessing import OrdinalEncoder, OneHotEncoder, LabelEncoder"
   ]
  },
  {
   "cell_type": "code",
   "execution_count": 8,
   "id": "0c980222-260e-43b2-a394-0e7de0c30722",
   "metadata": {},
   "outputs": [],
   "source": [
    "from sklearn.compose import ColumnTransformer\n",
    "from sklearn.impute import SimpleImputer\n",
    "from sklearn.model_selection import train_test_split,GridSearchCV,RandomizedSearchCV,StratifiedKFold\n",
    "from sklearn.ensemble import RandomForestClassifier\n",
    "from sklearn.metrics import accuracy_score, recall_score, precision_score, f1_score, confusion_matrix, classification_report, roc_curve,roc_auc_score"
   ]
  },
  {
   "cell_type": "code",
   "execution_count": 9,
   "id": "53952c0f-80cd-461f-a32c-cc609b15d0e9",
   "metadata": {},
   "outputs": [],
   "source": [
    "x = df.drop(columns='y')\n",
    "y = df['y']"
   ]
  },
  {
   "cell_type": "code",
   "execution_count": 10,
   "id": "e30734db-9bc2-4571-b13c-c099dde61886",
   "metadata": {},
   "outputs": [],
   "source": [
    "x_train,x_test,y_train,y_test = train_test_split(x,y,train_size=.80,stratify=y,random_state=42)"
   ]
  },
  {
   "cell_type": "code",
   "execution_count": 11,
   "id": "dfc4b06e-c4ca-4a64-aad4-5c3cbb7fefa1",
   "metadata": {},
   "outputs": [
    {
     "data": {
      "text/html": [
       "<div>\n",
       "<style scoped>\n",
       "    .dataframe tbody tr th:only-of-type {\n",
       "        vertical-align: middle;\n",
       "    }\n",
       "\n",
       "    .dataframe tbody tr th {\n",
       "        vertical-align: top;\n",
       "    }\n",
       "\n",
       "    .dataframe thead th {\n",
       "        text-align: right;\n",
       "    }\n",
       "</style>\n",
       "<table border=\"1\" class=\"dataframe\">\n",
       "  <thead>\n",
       "    <tr style=\"text-align: right;\">\n",
       "      <th></th>\n",
       "      <th>default</th>\n",
       "      <th>housing</th>\n",
       "      <th>loan</th>\n",
       "      <th>contact</th>\n",
       "      <th>pdays</th>\n",
       "      <th>age_group</th>\n",
       "      <th>Marital_Status</th>\n",
       "      <th>Job_Type</th>\n",
       "      <th>Edu_Cat</th>\n",
       "    </tr>\n",
       "  </thead>\n",
       "  <tbody>\n",
       "    <tr>\n",
       "      <th>36444</th>\n",
       "      <td>no</td>\n",
       "      <td>no</td>\n",
       "      <td>no</td>\n",
       "      <td>cellular</td>\n",
       "      <td>Never</td>\n",
       "      <td>Young Adult</td>\n",
       "      <td>not married</td>\n",
       "      <td>technician</td>\n",
       "      <td>professional.course</td>\n",
       "    </tr>\n",
       "    <tr>\n",
       "      <th>1233</th>\n",
       "      <td>no</td>\n",
       "      <td>no</td>\n",
       "      <td>no</td>\n",
       "      <td>telephone</td>\n",
       "      <td>Never</td>\n",
       "      <td>Young Adult</td>\n",
       "      <td>married</td>\n",
       "      <td>blue-collar</td>\n",
       "      <td>professional.course</td>\n",
       "    </tr>\n",
       "    <tr>\n",
       "      <th>24104</th>\n",
       "      <td>no</td>\n",
       "      <td>no</td>\n",
       "      <td>no</td>\n",
       "      <td>telephone</td>\n",
       "      <td>Never</td>\n",
       "      <td>Productive Adult</td>\n",
       "      <td>not married</td>\n",
       "      <td>self-employed</td>\n",
       "      <td>university.degree</td>\n",
       "    </tr>\n",
       "    <tr>\n",
       "      <th>15513</th>\n",
       "      <td>no</td>\n",
       "      <td>no</td>\n",
       "      <td>yes</td>\n",
       "      <td>telephone</td>\n",
       "      <td>Never</td>\n",
       "      <td>Productive Adult</td>\n",
       "      <td>married</td>\n",
       "      <td>self-employed</td>\n",
       "      <td>school</td>\n",
       "    </tr>\n",
       "    <tr>\n",
       "      <th>17912</th>\n",
       "      <td>no</td>\n",
       "      <td>yes</td>\n",
       "      <td>yes</td>\n",
       "      <td>cellular</td>\n",
       "      <td>Never</td>\n",
       "      <td>Productive Adult</td>\n",
       "      <td>married</td>\n",
       "      <td>services</td>\n",
       "      <td>school</td>\n",
       "    </tr>\n",
       "  </tbody>\n",
       "</table>\n",
       "</div>"
      ],
      "text/plain": [
       "      default housing loan    contact  pdays         age_group Marital_Status  \\\n",
       "36444      no      no   no   cellular  Never       Young Adult    not married   \n",
       "1233       no      no   no  telephone  Never       Young Adult        married   \n",
       "24104      no      no   no  telephone  Never  Productive Adult    not married   \n",
       "15513      no      no  yes  telephone  Never  Productive Adult        married   \n",
       "17912      no     yes  yes   cellular  Never  Productive Adult        married   \n",
       "\n",
       "            Job_Type              Edu_Cat  \n",
       "36444     technician  professional.course  \n",
       "1233     blue-collar  professional.course  \n",
       "24104  self-employed    university.degree  \n",
       "15513  self-employed               school  \n",
       "17912       services               school  "
      ]
     },
     "execution_count": 11,
     "metadata": {},
     "output_type": "execute_result"
    }
   ],
   "source": [
    "x_train.head()"
   ]
  },
  {
   "cell_type": "code",
   "execution_count": 12,
   "id": "0fc4a69d-dd7e-4fd4-b47e-75c87dda0fa7",
   "metadata": {},
   "outputs": [
    {
     "data": {
      "text/plain": [
       "array(['professional.course', 'university.degree', 'school', 'illiterate'],\n",
       "      dtype=object)"
      ]
     },
     "execution_count": 12,
     "metadata": {},
     "output_type": "execute_result"
    }
   ],
   "source": [
    "x_train['Edu_Cat'].unique()"
   ]
  },
  {
   "cell_type": "code",
   "execution_count": 13,
   "id": "9caa286b-b6a8-4217-b371-43743a7d3212",
   "metadata": {},
   "outputs": [],
   "source": [
    "def log_evaluation(data_sample_train,data_sample_test, aktual_train,aktual_test, model):\n",
    "    hasil_model_train = model.predict(data_sample_train)\n",
    "    accuracy_train = accuracy_score(aktual_train, hasil_model_train)\n",
    "    recall_train = recall_score(aktual_train, hasil_model_train)\n",
    "    precision_train = precision_score(aktual_train, hasil_model_train)\n",
    "    f1_train = f1_score(aktual_train, hasil_model_train)\n",
    "    rocauc_train = roc_auc_score(aktual_train,hasil_model_train)\n",
    "\n",
    "    hasil_model_test = model.predict(data_sample_test)\n",
    "    accuracy_test = accuracy_score(aktual_test, hasil_model_test)\n",
    "    recall_test = recall_score(aktual_test, hasil_model_test)\n",
    "    precision_test = precision_score(aktual_test, hasil_model_test)\n",
    "    f1_test = f1_score(aktual_test, hasil_model_test)\n",
    "    rocauc_test = roc_auc_score(aktual_test,hasil_model_test)\n",
    "    \n",
    "    cm = confusion_matrix(aktual_test, hasil_model_test, labels=[1,0])\n",
    "    df_cm = pd.DataFrame(cm, index = [\"akt1\", \"akt0\"],columns=[\"pred 1\" , \"pred 0\"])\n",
    "    cr = classification_report(aktual_test, hasil_model_test)\n",
    "\n",
    "\n",
    "    hasil_evaluation = pd.DataFrame(data= {\"Training\" : [accuracy_train, recall_train, precision_train,f1_train,rocauc_train],\"Testing\" : [accuracy_test, recall_test, precision_test,f1_test,rocauc_test]}, index=[\"accuracy\", \"recall\" , \"precission\", \"F1 Score\", \"ROCAUC\"] )\n",
    "\n",
    "    return hasil_model_train, hasil_model_test, hasil_evaluation, df_cm, cr"
   ]
  },
  {
   "cell_type": "code",
   "execution_count": 14,
   "id": "40827b0e-fb43-4eb5-b0d1-322dc6167a47",
   "metadata": {},
   "outputs": [],
   "source": [
    "cat_columns = [\"default\",\"housing\",\"loan\",\"contact\",\"pdays\",\"age_group\",\"Marital_Status\",\"Job_Type\",\"Edu_Cat\"]"
   ]
  },
  {
   "cell_type": "code",
   "execution_count": 15,
   "id": "00cf6104-f74f-4a5d-9978-0882836f1730",
   "metadata": {},
   "outputs": [],
   "source": [
    "cat_pipeline = Pipeline([\n",
    "    ('encoder',OneHotEncoder())\n",
    "])\n",
    "\n",
    "\n",
    "preprocessor = ColumnTransformer([\n",
    "    # ('Nama Instruksi',fungsinya, data yang akan dieksekusi dengan fungsi tsb)\n",
    "    ('categoric1',cat_pipeline,cat_columns),\n",
    "])\n",
    "\n",
    "Pipe_rf = Pipeline([\n",
    "    ('prep',preprocessor),\n",
    "    ('algo',RandomForestClassifier())\n",
    "\n",
    "])"
   ]
  },
  {
   "cell_type": "code",
   "execution_count": 16,
   "id": "fdca4da5-0466-4d36-8078-81e0b68649de",
   "metadata": {},
   "outputs": [
    {
     "data": {
      "text/plain": [
       "Pipeline(steps=[('prep',\n",
       "                 ColumnTransformer(transformers=[('categoric1',\n",
       "                                                  Pipeline(steps=[('encoder',\n",
       "                                                                   OneHotEncoder())]),\n",
       "                                                  ['default', 'housing', 'loan',\n",
       "                                                   'contact', 'pdays',\n",
       "                                                   'age_group',\n",
       "                                                   'Marital_Status', 'Job_Type',\n",
       "                                                   'Edu_Cat'])])),\n",
       "                ('algo', RandomForestClassifier())])"
      ]
     },
     "execution_count": 16,
     "metadata": {},
     "output_type": "execute_result"
    }
   ],
   "source": [
    "Pipe_rf.fit(x_train,y_train)"
   ]
  },
  {
   "cell_type": "code",
   "execution_count": 17,
   "id": "a20998d8-8c15-4be9-81ca-bbf30857eea1",
   "metadata": {},
   "outputs": [],
   "source": [
    "rf_hasil_train, rf_hasil_test, rf_evaluation, rf_cm, rf_cr = log_evaluation(x_train, x_test, y_train, y_test, Pipe_rf)"
   ]
  },
  {
   "cell_type": "code",
   "execution_count": 18,
   "id": "cdb80217-7591-426c-8fe3-00f075800241",
   "metadata": {},
   "outputs": [
    {
     "data": {
      "text/plain": [
       "array([0, 0, 0, ..., 0, 0, 0], dtype=int64)"
      ]
     },
     "execution_count": 18,
     "metadata": {},
     "output_type": "execute_result"
    }
   ],
   "source": [
    "rf_hasil_train"
   ]
  },
  {
   "cell_type": "code",
   "execution_count": 19,
   "id": "add08bbe-e34e-41eb-9aae-be86b8a4bfe4",
   "metadata": {},
   "outputs": [
    {
     "data": {
      "text/plain": [
       "Pipeline(steps=[('prep',\n",
       "                 ColumnTransformer(transformers=[('categoric1',\n",
       "                                                  Pipeline(steps=[('encoder',\n",
       "                                                                   OneHotEncoder())]),\n",
       "                                                  ['default', 'housing', 'loan',\n",
       "                                                   'contact', 'pdays',\n",
       "                                                   'age_group',\n",
       "                                                   'Marital_Status', 'Job_Type',\n",
       "                                                   'Edu_Cat'])])),\n",
       "                ('algo', RandomForestClassifier())])"
      ]
     },
     "execution_count": 19,
     "metadata": {},
     "output_type": "execute_result"
    }
   ],
   "source": [
    "Pipe_rf"
   ]
  },
  {
   "cell_type": "code",
   "execution_count": 20,
   "id": "c2b29a4e-f205-46ea-b328-cb33ab0b1089",
   "metadata": {},
   "outputs": [
    {
     "data": {
      "text/html": [
       "<div>\n",
       "<style scoped>\n",
       "    .dataframe tbody tr th:only-of-type {\n",
       "        vertical-align: middle;\n",
       "    }\n",
       "\n",
       "    .dataframe tbody tr th {\n",
       "        vertical-align: top;\n",
       "    }\n",
       "\n",
       "    .dataframe thead th {\n",
       "        text-align: right;\n",
       "    }\n",
       "</style>\n",
       "<table border=\"1\" class=\"dataframe\">\n",
       "  <thead>\n",
       "    <tr style=\"text-align: right;\">\n",
       "      <th></th>\n",
       "      <th>Training</th>\n",
       "      <th>Testing</th>\n",
       "    </tr>\n",
       "  </thead>\n",
       "  <tbody>\n",
       "    <tr>\n",
       "      <th>accuracy</th>\n",
       "      <td>0.902489</td>\n",
       "      <td>0.891088</td>\n",
       "    </tr>\n",
       "    <tr>\n",
       "      <th>recall</th>\n",
       "      <td>0.205335</td>\n",
       "      <td>0.150862</td>\n",
       "    </tr>\n",
       "    <tr>\n",
       "      <th>precission</th>\n",
       "      <td>0.743415</td>\n",
       "      <td>0.562249</td>\n",
       "    </tr>\n",
       "    <tr>\n",
       "      <th>F1 Score</th>\n",
       "      <td>0.321791</td>\n",
       "      <td>0.237893</td>\n",
       "    </tr>\n",
       "    <tr>\n",
       "      <th>ROCAUC</th>\n",
       "      <td>0.598169</td>\n",
       "      <td>0.567973</td>\n",
       "    </tr>\n",
       "  </tbody>\n",
       "</table>\n",
       "</div>"
      ],
      "text/plain": [
       "            Training   Testing\n",
       "accuracy    0.902489  0.891088\n",
       "recall      0.205335  0.150862\n",
       "precission  0.743415  0.562249\n",
       "F1 Score    0.321791  0.237893\n",
       "ROCAUC      0.598169  0.567973"
      ]
     },
     "execution_count": 20,
     "metadata": {},
     "output_type": "execute_result"
    }
   ],
   "source": [
    "rf_evaluation"
   ]
  },
  {
   "cell_type": "code",
   "execution_count": 21,
   "id": "4488b258-822c-4da7-a384-aacf20efae54",
   "metadata": {},
   "outputs": [
    {
     "data": {
      "text/html": [
       "<div>\n",
       "<style scoped>\n",
       "    .dataframe tbody tr th:only-of-type {\n",
       "        vertical-align: middle;\n",
       "    }\n",
       "\n",
       "    .dataframe tbody tr th {\n",
       "        vertical-align: top;\n",
       "    }\n",
       "\n",
       "    .dataframe thead th {\n",
       "        text-align: right;\n",
       "    }\n",
       "</style>\n",
       "<table border=\"1\" class=\"dataframe\">\n",
       "  <thead>\n",
       "    <tr style=\"text-align: right;\">\n",
       "      <th></th>\n",
       "      <th>pred 1</th>\n",
       "      <th>pred 0</th>\n",
       "    </tr>\n",
       "  </thead>\n",
       "  <tbody>\n",
       "    <tr>\n",
       "      <th>akt1</th>\n",
       "      <td>140</td>\n",
       "      <td>788</td>\n",
       "    </tr>\n",
       "    <tr>\n",
       "      <th>akt0</th>\n",
       "      <td>109</td>\n",
       "      <td>7199</td>\n",
       "    </tr>\n",
       "  </tbody>\n",
       "</table>\n",
       "</div>"
      ],
      "text/plain": [
       "      pred 1  pred 0\n",
       "akt1     140     788\n",
       "akt0     109    7199"
      ]
     },
     "execution_count": 21,
     "metadata": {},
     "output_type": "execute_result"
    }
   ],
   "source": [
    "rf_cm"
   ]
  },
  {
   "cell_type": "code",
   "execution_count": 22,
   "id": "95e998e2-ae45-4fb3-b0b3-9ade49909aa1",
   "metadata": {},
   "outputs": [
    {
     "name": "stdout",
     "output_type": "stream",
     "text": [
      "              precision    recall  f1-score   support\n",
      "\n",
      "           0       0.90      0.99      0.94      7308\n",
      "           1       0.56      0.15      0.24       928\n",
      "\n",
      "    accuracy                           0.89      8236\n",
      "   macro avg       0.73      0.57      0.59      8236\n",
      "weighted avg       0.86      0.89      0.86      8236\n",
      "\n"
     ]
    }
   ],
   "source": [
    "print(rf_cr)"
   ]
  },
  {
   "cell_type": "code",
   "execution_count": 23,
   "id": "a6d3baf1-62db-4cc8-8d3e-7314de6a6ee2",
   "metadata": {},
   "outputs": [],
   "source": [
    "skf = StratifiedKFold(n_splits=4)"
   ]
  },
  {
   "cell_type": "markdown",
   "id": "47d37724-da29-4368-9c41-7bdfca855a96",
   "metadata": {},
   "source": [
    "#use required features\n",
    "cdf = df[['ENGINESIZE','CYLINDERS','FUELCONSUMPTION_COMB','CO2EMISSIONS']]\n",
    "\n",
    "#Training Data and Predictor Variable\n",
    "# Use all data for training (tarin-test-split not used)\n",
    "x = cdf.iloc[:, :3]\n",
    "y = cdf.iloc[:, -1]\n",
    "regressor = LinearRegression()\n",
    "\n",
    "#Fitting model with trainig data\n",
    "regressor.fit(x, y)\n",
    "\n",
    "# Saving model to current directory\n",
    "# Pickle serializes objects so they can be saved to a file, and loaded in a program again later on.\n",
    "pickle.dump(regressor, open('model.pkl','wb'))"
   ]
  },
  {
   "cell_type": "code",
   "execution_count": 24,
   "id": "0e67ebf1-f6bc-4048-a4cb-b58f8f4cbd83",
   "metadata": {},
   "outputs": [
    {
     "data": {
      "text/plain": [
       "{'memory': None,\n",
       " 'steps': [('prep',\n",
       "   ColumnTransformer(transformers=[('categoric1',\n",
       "                                    Pipeline(steps=[('encoder', OneHotEncoder())]),\n",
       "                                    ['default', 'housing', 'loan', 'contact',\n",
       "                                     'pdays', 'age_group', 'Marital_Status',\n",
       "                                     'Job_Type', 'Edu_Cat'])])),\n",
       "  ('algo', RandomForestClassifier())],\n",
       " 'verbose': False,\n",
       " 'prep': ColumnTransformer(transformers=[('categoric1',\n",
       "                                  Pipeline(steps=[('encoder', OneHotEncoder())]),\n",
       "                                  ['default', 'housing', 'loan', 'contact',\n",
       "                                   'pdays', 'age_group', 'Marital_Status',\n",
       "                                   'Job_Type', 'Edu_Cat'])]),\n",
       " 'algo': RandomForestClassifier(),\n",
       " 'prep__n_jobs': None,\n",
       " 'prep__remainder': 'drop',\n",
       " 'prep__sparse_threshold': 0.3,\n",
       " 'prep__transformer_weights': None,\n",
       " 'prep__transformers': [('categoric1',\n",
       "   Pipeline(steps=[('encoder', OneHotEncoder())]),\n",
       "   ['default',\n",
       "    'housing',\n",
       "    'loan',\n",
       "    'contact',\n",
       "    'pdays',\n",
       "    'age_group',\n",
       "    'Marital_Status',\n",
       "    'Job_Type',\n",
       "    'Edu_Cat'])],\n",
       " 'prep__verbose': False,\n",
       " 'prep__categoric1': Pipeline(steps=[('encoder', OneHotEncoder())]),\n",
       " 'prep__categoric1__memory': None,\n",
       " 'prep__categoric1__steps': [('encoder', OneHotEncoder())],\n",
       " 'prep__categoric1__verbose': False,\n",
       " 'prep__categoric1__encoder': OneHotEncoder(),\n",
       " 'prep__categoric1__encoder__categories': 'auto',\n",
       " 'prep__categoric1__encoder__drop': None,\n",
       " 'prep__categoric1__encoder__dtype': numpy.float64,\n",
       " 'prep__categoric1__encoder__handle_unknown': 'error',\n",
       " 'prep__categoric1__encoder__sparse': True,\n",
       " 'algo__bootstrap': True,\n",
       " 'algo__ccp_alpha': 0.0,\n",
       " 'algo__class_weight': None,\n",
       " 'algo__criterion': 'gini',\n",
       " 'algo__max_depth': None,\n",
       " 'algo__max_features': 'auto',\n",
       " 'algo__max_leaf_nodes': None,\n",
       " 'algo__max_samples': None,\n",
       " 'algo__min_impurity_decrease': 0.0,\n",
       " 'algo__min_impurity_split': None,\n",
       " 'algo__min_samples_leaf': 1,\n",
       " 'algo__min_samples_split': 2,\n",
       " 'algo__min_weight_fraction_leaf': 0.0,\n",
       " 'algo__n_estimators': 100,\n",
       " 'algo__n_jobs': None,\n",
       " 'algo__oob_score': False,\n",
       " 'algo__random_state': None,\n",
       " 'algo__verbose': 0,\n",
       " 'algo__warm_start': False}"
      ]
     },
     "execution_count": 24,
     "metadata": {},
     "output_type": "execute_result"
    }
   ],
   "source": [
    "Pipe_rf.get_params()"
   ]
  },
  {
   "cell_type": "code",
   "execution_count": 25,
   "id": "1674a153-dca0-426a-beff-838a18855ae6",
   "metadata": {},
   "outputs": [],
   "source": [
    "import numpy as np"
   ]
  },
  {
   "cell_type": "code",
   "execution_count": 26,
   "id": "f6ddd6d2-2c29-4d04-9c79-a57f8e4e2fa1",
   "metadata": {},
   "outputs": [
    {
     "data": {
      "text/plain": [
       "array([0.1, 0.2, 0.3, 0.4, 0.5, 0.6, 0.7, 0.8])"
      ]
     },
     "execution_count": 26,
     "metadata": {},
     "output_type": "execute_result"
    }
   ],
   "source": [
    "weights2 = np.arange(0.1,0.9,0.1)\n",
    "weights2"
   ]
  },
  {
   "cell_type": "code",
   "execution_count": 27,
   "id": "cb8dc149-43b1-49d4-8989-644d69cedc30",
   "metadata": {},
   "outputs": [],
   "source": [
    "pm_rf = {\n",
    "    'algo__n_estimators': [1000, 1100, 1200],\n",
    "    'algo__max_depth': np.arange(0,100,1),\n",
    "    #'algo__min_samples_split' : np.arange(1,200,1),\n",
    "    #'algo__min_samples_leaf': np.arange(1,200,1),\n",
    "    'algo__class_weight': [{0:x, 1:1.0-x} for x in weights2],\n",
    "    #\"algo__random_state\" : [42]\n",
    "\n",
    "}"
   ]
  },
  {
   "cell_type": "code",
   "execution_count": 28,
   "id": "372bfae1-e974-449a-bf40-b045cc79c105",
   "metadata": {},
   "outputs": [],
   "source": [
    "gs_rft = RandomizedSearchCV(Pipe_rf, pm_rf, cv = skf, n_jobs=-1,verbose = -1,scoring=\"balanced_accuracy\", random_state= 3, n_iter=3)"
   ]
  },
  {
   "cell_type": "code",
   "execution_count": 29,
   "id": "4b94bba4-3ce7-45bc-a4d9-127ceb8c15cd",
   "metadata": {},
   "outputs": [
    {
     "data": {
      "text/plain": [
       "RandomizedSearchCV(cv=StratifiedKFold(n_splits=4, random_state=None, shuffle=False),\n",
       "                   estimator=Pipeline(steps=[('prep',\n",
       "                                              ColumnTransformer(transformers=[('categoric1',\n",
       "                                                                               Pipeline(steps=[('encoder',\n",
       "                                                                                                OneHotEncoder())]),\n",
       "                                                                               ['default',\n",
       "                                                                                'housing',\n",
       "                                                                                'loan',\n",
       "                                                                                'contact',\n",
       "                                                                                'pdays',\n",
       "                                                                                'age_group',\n",
       "                                                                                'Marital_Status',\n",
       "                                                                                'Job_Type',\n",
       "                                                                                'Edu_Cat'])])),\n",
       "                                             ('algo',\n",
       "                                              RandomForestClassifier())]),\n",
       "                   n_ite...\n",
       "                                        'algo__max_depth': array([ 0,  1,  2,  3,  4,  5,  6,  7,  8,  9, 10, 11, 12, 13, 14, 15, 16,\n",
       "       17, 18, 19, 20, 21, 22, 23, 24, 25, 26, 27, 28, 29, 30, 31, 32, 33,\n",
       "       34, 35, 36, 37, 38, 39, 40, 41, 42, 43, 44, 45, 46, 47, 48, 49, 50,\n",
       "       51, 52, 53, 54, 55, 56, 57, 58, 59, 60, 61, 62, 63, 64, 65, 66, 67,\n",
       "       68, 69, 70, 71, 72, 73, 74, 75, 76, 77, 78, 79, 80, 81, 82, 83, 84,\n",
       "       85, 86, 87, 88, 89, 90, 91, 92, 93, 94, 95, 96, 97, 98, 99]),\n",
       "                                        'algo__n_estimators': [1000, 1100,\n",
       "                                                               1200]},\n",
       "                   random_state=3, scoring='balanced_accuracy', verbose=-1)"
      ]
     },
     "execution_count": 29,
     "metadata": {},
     "output_type": "execute_result"
    }
   ],
   "source": [
    "gs_rft.fit(x_train,y_train)"
   ]
  },
  {
   "cell_type": "code",
   "execution_count": 30,
   "id": "0772c7c3-7e3b-4e8c-bd86-b236c65c765f",
   "metadata": {},
   "outputs": [
    {
     "data": {
      "text/plain": [
       "{'algo__n_estimators': 1200,\n",
       " 'algo__max_depth': 62,\n",
       " 'algo__class_weight': {0: 0.6, 1: 0.4}}"
      ]
     },
     "execution_count": 30,
     "metadata": {},
     "output_type": "execute_result"
    }
   ],
   "source": [
    "gs_rft.best_params_"
   ]
  },
  {
   "cell_type": "code",
   "execution_count": 31,
   "id": "645cad75-1aad-4607-9539-dcc35dcd8849",
   "metadata": {},
   "outputs": [],
   "source": [
    "rf_t = gs_rft.best_estimator_"
   ]
  },
  {
   "cell_type": "code",
   "execution_count": 32,
   "id": "229a9b05-b3a6-4246-9f13-2255f09b5bb7",
   "metadata": {},
   "outputs": [
    {
     "data": {
      "text/plain": [
       "Pipeline(steps=[('prep',\n",
       "                 ColumnTransformer(transformers=[('categoric1',\n",
       "                                                  Pipeline(steps=[('encoder',\n",
       "                                                                   OneHotEncoder())]),\n",
       "                                                  ['default', 'housing', 'loan',\n",
       "                                                   'contact', 'pdays',\n",
       "                                                   'age_group',\n",
       "                                                   'Marital_Status', 'Job_Type',\n",
       "                                                   'Edu_Cat'])])),\n",
       "                ('algo',\n",
       "                 RandomForestClassifier(class_weight={0: 0.6, 1: 0.4},\n",
       "                                        max_depth=62, n_estimators=1200))])"
      ]
     },
     "execution_count": 32,
     "metadata": {},
     "output_type": "execute_result"
    }
   ],
   "source": [
    "rf_t"
   ]
  },
  {
   "cell_type": "code",
   "execution_count": 33,
   "id": "9db64228-7477-43d2-94dd-928cfa8c6c76",
   "metadata": {},
   "outputs": [],
   "source": [
    "rft_hasil_train, rft_hasil_test, rft_evaluation, rft_cm, rft_cr = log_evaluation(x_train, x_test, y_train, y_test, rf_t)"
   ]
  },
  {
   "cell_type": "code",
   "execution_count": 34,
   "id": "eb3bb3f7-d634-4108-b9b3-68d7f83315ee",
   "metadata": {},
   "outputs": [
    {
     "data": {
      "text/html": [
       "<div>\n",
       "<style scoped>\n",
       "    .dataframe tbody tr th:only-of-type {\n",
       "        vertical-align: middle;\n",
       "    }\n",
       "\n",
       "    .dataframe tbody tr th {\n",
       "        vertical-align: top;\n",
       "    }\n",
       "\n",
       "    .dataframe thead th {\n",
       "        text-align: right;\n",
       "    }\n",
       "</style>\n",
       "<table border=\"1\" class=\"dataframe\">\n",
       "  <thead>\n",
       "    <tr style=\"text-align: right;\">\n",
       "      <th></th>\n",
       "      <th>Training</th>\n",
       "      <th>Testing</th>\n",
       "    </tr>\n",
       "  </thead>\n",
       "  <tbody>\n",
       "    <tr>\n",
       "      <th>accuracy</th>\n",
       "      <td>0.902277</td>\n",
       "      <td>0.890966</td>\n",
       "    </tr>\n",
       "    <tr>\n",
       "      <th>recall</th>\n",
       "      <td>0.185664</td>\n",
       "      <td>0.129310</td>\n",
       "    </tr>\n",
       "    <tr>\n",
       "      <th>precission</th>\n",
       "      <td>0.777652</td>\n",
       "      <td>0.571429</td>\n",
       "    </tr>\n",
       "    <tr>\n",
       "      <th>F1 Score</th>\n",
       "      <td>0.299761</td>\n",
       "      <td>0.210896</td>\n",
       "    </tr>\n",
       "    <tr>\n",
       "      <th>ROCAUC</th>\n",
       "      <td>0.589462</td>\n",
       "      <td>0.558498</td>\n",
       "    </tr>\n",
       "  </tbody>\n",
       "</table>\n",
       "</div>"
      ],
      "text/plain": [
       "            Training   Testing\n",
       "accuracy    0.902277  0.890966\n",
       "recall      0.185664  0.129310\n",
       "precission  0.777652  0.571429\n",
       "F1 Score    0.299761  0.210896\n",
       "ROCAUC      0.589462  0.558498"
      ]
     },
     "execution_count": 34,
     "metadata": {},
     "output_type": "execute_result"
    }
   ],
   "source": [
    "rft_evaluation"
   ]
  },
  {
   "cell_type": "code",
   "execution_count": 35,
   "id": "f157382e-2171-4a6c-a63a-fa791b11d30c",
   "metadata": {},
   "outputs": [
    {
     "data": {
      "text/html": [
       "<div>\n",
       "<style scoped>\n",
       "    .dataframe tbody tr th:only-of-type {\n",
       "        vertical-align: middle;\n",
       "    }\n",
       "\n",
       "    .dataframe tbody tr th {\n",
       "        vertical-align: top;\n",
       "    }\n",
       "\n",
       "    .dataframe thead th {\n",
       "        text-align: right;\n",
       "    }\n",
       "</style>\n",
       "<table border=\"1\" class=\"dataframe\">\n",
       "  <thead>\n",
       "    <tr style=\"text-align: right;\">\n",
       "      <th></th>\n",
       "      <th>pred 1</th>\n",
       "      <th>pred 0</th>\n",
       "    </tr>\n",
       "  </thead>\n",
       "  <tbody>\n",
       "    <tr>\n",
       "      <th>akt1</th>\n",
       "      <td>120</td>\n",
       "      <td>808</td>\n",
       "    </tr>\n",
       "    <tr>\n",
       "      <th>akt0</th>\n",
       "      <td>90</td>\n",
       "      <td>7218</td>\n",
       "    </tr>\n",
       "  </tbody>\n",
       "</table>\n",
       "</div>"
      ],
      "text/plain": [
       "      pred 1  pred 0\n",
       "akt1     120     808\n",
       "akt0      90    7218"
      ]
     },
     "execution_count": 35,
     "metadata": {},
     "output_type": "execute_result"
    }
   ],
   "source": [
    "rft_cm"
   ]
  },
  {
   "cell_type": "code",
   "execution_count": 36,
   "id": "6e53f260-cff5-454c-aeb5-71d9b2eb0dec",
   "metadata": {},
   "outputs": [
    {
     "name": "stdout",
     "output_type": "stream",
     "text": [
      "              precision    recall  f1-score   support\n",
      "\n",
      "           0       0.90      0.99      0.94      7308\n",
      "           1       0.57      0.13      0.21       928\n",
      "\n",
      "    accuracy                           0.89      8236\n",
      "   macro avg       0.74      0.56      0.58      8236\n",
      "weighted avg       0.86      0.89      0.86      8236\n",
      "\n"
     ]
    }
   ],
   "source": [
    "print(rft_cr)"
   ]
  },
  {
   "cell_type": "code",
   "execution_count": 37,
   "id": "61d49b87-e31a-4210-ad87-450fa92fc02a",
   "metadata": {},
   "outputs": [],
   "source": [
    "# Saving model to current directory\n",
    "# Pickle serializes objects so they can be saved to a file, and loaded in a program again later on.\n",
    "import pickle\n",
    "import sklearn"
   ]
  },
  {
   "cell_type": "code",
   "execution_count": 38,
   "id": "77903c8f-522d-4f0b-b817-9059f7d72ffa",
   "metadata": {},
   "outputs": [
    {
     "data": {
      "text/plain": [
       "'0.24.1'"
      ]
     },
     "execution_count": 38,
     "metadata": {},
     "output_type": "execute_result"
    }
   ],
   "source": [
    "scikit_learn_version = sklearn.__version__\n",
    "\n",
    "scikit_learn_version"
   ]
  },
  {
   "cell_type": "code",
   "execution_count": 39,
   "id": "ee03eb5c-9651-40c9-97a9-6b31db938b26",
   "metadata": {},
   "outputs": [],
   "source": [
    "rfr_model_param = {}\n",
    "\n",
    "rfr_model_param['model'] = rf_t\n",
    "rfr_model_param['sklearn_version'] = scikit_learn_version"
   ]
  },
  {
   "cell_type": "code",
   "execution_count": 40,
   "id": "febc575c-8d1b-4c4b-a5b7-43d915b0ffef",
   "metadata": {},
   "outputs": [
    {
     "data": {
      "text/plain": [
       "{'model': Pipeline(steps=[('prep',\n",
       "                  ColumnTransformer(transformers=[('categoric1',\n",
       "                                                   Pipeline(steps=[('encoder',\n",
       "                                                                    OneHotEncoder())]),\n",
       "                                                   ['default', 'housing', 'loan',\n",
       "                                                    'contact', 'pdays',\n",
       "                                                    'age_group',\n",
       "                                                    'Marital_Status', 'Job_Type',\n",
       "                                                    'Edu_Cat'])])),\n",
       "                 ('algo',\n",
       "                  RandomForestClassifier(class_weight={0: 0.6, 1: 0.4},\n",
       "                                         max_depth=62, n_estimators=1200))]),\n",
       " 'sklearn_version': '0.24.1'}"
      ]
     },
     "execution_count": 40,
     "metadata": {},
     "output_type": "execute_result"
    }
   ],
   "source": [
    "rfr_model_param"
   ]
  },
  {
   "cell_type": "code",
   "execution_count": 41,
   "id": "5ac61887-b572-46c1-a5f5-8648e64bbbaa",
   "metadata": {},
   "outputs": [],
   "source": [
    "pickle.dump(rf_t, open('model_rf_t.pkl','wb'))"
   ]
  },
  {
   "cell_type": "code",
   "execution_count": 42,
   "id": "e9861ab8-d6b7-4605-80da-f2b24627f7a6",
   "metadata": {},
   "outputs": [],
   "source": [
    "model__ = pickle.load(open('model_rf_t.pkl','rb'))\n"
   ]
  },
  {
   "cell_type": "code",
   "execution_count": 43,
   "id": "2fb8c654-033c-48a0-a842-70cc72b99818",
   "metadata": {},
   "outputs": [
    {
     "name": "stdout",
     "output_type": "stream",
     "text": [
      "[0 0 0 ... 0 0 0]\n"
     ]
    }
   ],
   "source": [
    "print(model__.predict(x_test))"
   ]
  },
  {
   "cell_type": "code",
   "execution_count": 44,
   "id": "ff9aa1b2-edc4-49e1-ac49-b7dcdfe545ba",
   "metadata": {},
   "outputs": [
    {
     "data": {
      "text/html": [
       "<div>\n",
       "<style scoped>\n",
       "    .dataframe tbody tr th:only-of-type {\n",
       "        vertical-align: middle;\n",
       "    }\n",
       "\n",
       "    .dataframe tbody tr th {\n",
       "        vertical-align: top;\n",
       "    }\n",
       "\n",
       "    .dataframe thead th {\n",
       "        text-align: right;\n",
       "    }\n",
       "</style>\n",
       "<table border=\"1\" class=\"dataframe\">\n",
       "  <thead>\n",
       "    <tr style=\"text-align: right;\">\n",
       "      <th></th>\n",
       "      <th>default</th>\n",
       "      <th>housing</th>\n",
       "      <th>loan</th>\n",
       "      <th>contact</th>\n",
       "      <th>pdays</th>\n",
       "      <th>age_group</th>\n",
       "      <th>Marital_Status</th>\n",
       "      <th>Job_Type</th>\n",
       "      <th>Edu_Cat</th>\n",
       "    </tr>\n",
       "  </thead>\n",
       "  <tbody>\n",
       "    <tr>\n",
       "      <th>8489</th>\n",
       "      <td>no</td>\n",
       "      <td>no</td>\n",
       "      <td>no</td>\n",
       "      <td>telephone</td>\n",
       "      <td>Never</td>\n",
       "      <td>Productive Adult</td>\n",
       "      <td>married</td>\n",
       "      <td>services</td>\n",
       "      <td>school</td>\n",
       "    </tr>\n",
       "    <tr>\n",
       "      <th>40832</th>\n",
       "      <td>no</td>\n",
       "      <td>yes</td>\n",
       "      <td>no</td>\n",
       "      <td>cellular</td>\n",
       "      <td>Yes</td>\n",
       "      <td>Young Adult</td>\n",
       "      <td>not married</td>\n",
       "      <td>student</td>\n",
       "      <td>professional.course</td>\n",
       "    </tr>\n",
       "    <tr>\n",
       "      <th>35671</th>\n",
       "      <td>no</td>\n",
       "      <td>yes</td>\n",
       "      <td>no</td>\n",
       "      <td>cellular</td>\n",
       "      <td>Never</td>\n",
       "      <td>Productive Adult</td>\n",
       "      <td>not married</td>\n",
       "      <td>self-employed</td>\n",
       "      <td>school</td>\n",
       "    </tr>\n",
       "    <tr>\n",
       "      <th>35984</th>\n",
       "      <td>no</td>\n",
       "      <td>no</td>\n",
       "      <td>no</td>\n",
       "      <td>cellular</td>\n",
       "      <td>Never</td>\n",
       "      <td>Young Adult</td>\n",
       "      <td>not married</td>\n",
       "      <td>blue-collar</td>\n",
       "      <td>professional.course</td>\n",
       "    </tr>\n",
       "    <tr>\n",
       "      <th>21954</th>\n",
       "      <td>no</td>\n",
       "      <td>yes</td>\n",
       "      <td>no</td>\n",
       "      <td>cellular</td>\n",
       "      <td>Never</td>\n",
       "      <td>Young Adult</td>\n",
       "      <td>married</td>\n",
       "      <td>technician</td>\n",
       "      <td>university.degree</td>\n",
       "    </tr>\n",
       "  </tbody>\n",
       "</table>\n",
       "</div>"
      ],
      "text/plain": [
       "      default housing loan    contact  pdays         age_group Marital_Status  \\\n",
       "8489       no      no   no  telephone  Never  Productive Adult        married   \n",
       "40832      no     yes   no   cellular    Yes       Young Adult    not married   \n",
       "35671      no     yes   no   cellular  Never  Productive Adult    not married   \n",
       "35984      no      no   no   cellular  Never       Young Adult    not married   \n",
       "21954      no     yes   no   cellular  Never       Young Adult        married   \n",
       "\n",
       "            Job_Type              Edu_Cat  \n",
       "8489        services               school  \n",
       "40832        student  professional.course  \n",
       "35671  self-employed               school  \n",
       "35984    blue-collar  professional.course  \n",
       "21954     technician    university.degree  "
      ]
     },
     "execution_count": 44,
     "metadata": {},
     "output_type": "execute_result"
    }
   ],
   "source": [
    "x_test.head()"
   ]
  },
  {
   "cell_type": "code",
   "execution_count": 141,
   "id": "36230131-aa2a-4fe7-9349-e80a2b831abb",
   "metadata": {},
   "outputs": [
    {
     "name": "stdout",
     "output_type": "stream",
     "text": [
      "^C\n",
      "\n",
      "Note: you may need to restart the kernel to use updated packages.\n"
     ]
    }
   ],
   "source": [
    "conda update conda"
   ]
  },
  {
   "cell_type": "code",
   "execution_count": 145,
   "id": "c9eee579-44b9-479e-a5fb-de63d05b288d",
   "metadata": {},
   "outputs": [
    {
     "name": "stdout",
     "output_type": "stream",
     "text": [
      "\n",
      "Note: you may need to restart the kernel to use updated packages.\n"
     ]
    },
    {
     "name": "stderr",
     "output_type": "stream",
     "text": [
      "Cannot open C:\\Users\\USER\\anaconda3\\Scripts\\conda-script.py\n"
     ]
    }
   ],
   "source": [
    "conda install scikit-learn=0.24.2"
   ]
  },
  {
   "cell_type": "code",
   "execution_count": null,
   "id": "84f4422c-8976-4f5d-93b4-073b79216f76",
   "metadata": {},
   "outputs": [],
   "source": []
  }
 ],
 "metadata": {
  "kernelspec": {
   "display_name": "Python 3",
   "language": "python",
   "name": "python3"
  },
  "language_info": {
   "codemirror_mode": {
    "name": "ipython",
    "version": 3
   },
   "file_extension": ".py",
   "mimetype": "text/x-python",
   "name": "python",
   "nbconvert_exporter": "python",
   "pygments_lexer": "ipython3",
   "version": "3.8.8"
  }
 },
 "nbformat": 4,
 "nbformat_minor": 5
}
